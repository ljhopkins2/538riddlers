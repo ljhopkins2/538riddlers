{
 "cells": [
  {
   "cell_type": "markdown",
   "metadata": {},
   "source": [
    "Riddler League Baseball, also known as the RLB, consists of three teams: the Mississippi Moonwalkers, the Delaware Doubloons and the Tennessee Taters.\n",
    "\n",
    "Each time a batter for the Moonwalkers comes to the plate, they have a 40 percent chance of getting a walk and a 60 percent chance of striking out. Each batter for the Doubloons, meanwhile, hits a double 20 percent percent of the time, driving in any teammates who are on base, and strikes out the remaining 80 percent of the time. Finally, each batter for the Taters has a 10 percent chance of hitting a home run and a 90 percent chance of striking out.\n",
    "\n",
    "During the RLB season, each team plays an equal number of games against each opponent. Games are nine innings long and can go into extra innings just like in other baseball leagues. Which of the three teams is most likely to have the best record at the end of the season?"
   ]
  },
  {
   "cell_type": "code",
   "execution_count": 1,
   "metadata": {},
   "outputs": [],
   "source": [
    "# Define dictionaries of at-bat probabilities for each team\n",
    "\n",
    "moonwalkers = {\n",
    "    0: 0.60,\n",
    "    1: 0.40\n",
    "}\n",
    "\n",
    "doubloons = {\n",
    "    0: 0.80,\n",
    "    2: 0.20\n",
    "}\n",
    "\n",
    "taters = {\n",
    "    0: 0.90,\n",
    "    4: 0.10\n",
    "}"
   ]
  },
  {
   "cell_type": "code",
   "execution_count": 115,
   "metadata": {},
   "outputs": [],
   "source": [
    "def play_a_game(visitor_stats, home_team_stats):\n",
    "    team_stats = {0: visitor_stats, 1: home_team_stats}\n",
    "    game_score = [0, 0]\n",
    "    \n",
    "    # Play regulation innings\n",
    "    for inning in range(1,10):\n",
    "        inning_score = play_inning(team_stats)\n",
    "        game_score[0] = inning_score[0]\n",
    "        game_score[1] = inning_score[1]\n",
    "\n",
    "    # Play extra innings, if tied, until someone scores\n",
    "    while game_score[0] == game_score[1]:\n",
    "        inning += 1\n",
    "        inning_score = play_inning(team_stats)\n",
    "        game_score[0] = inning_score[0]\n",
    "        game_score[1] = inning_score[1]\n",
    "    \n",
    "    winner = game_score.index(max(game_score))\n",
    "    \n",
    "    return winner, inning, game_score\n",
    "\n",
    "def play_inning(team_stats):\n",
    "    inning_score = [0, 0]\n",
    "    \n",
    "    for batting_team in [0, 1]:\n",
    "        outs = 0\n",
    "        runners_on = 0\n",
    "\n",
    "        while outs < 3:\n",
    "            # How many bases does the hitter get?\n",
    "            at_bat_result = int(np.random.choice(list(team_stats[batting_team].keys()),\n",
    "                                size=1,\n",
    "                                p=list(team_stats[batting_team].values())))\n",
    "\n",
    "            # Run the bases; increment the game score & outs\n",
    "            at_bat_outs, runs, runners_on = run_bases(at_bat_result, runners_on)\n",
    "\n",
    "            outs += at_bat_outs\n",
    "            inning_score[batting_team] += runs\n",
    "\n",
    "    return inning_score\n",
    "\n",
    "def run_bases(bases_to_advance, runners_on=0):\n",
    "    outs = 0\n",
    "    runs = 0\n",
    "    runners_on = min(runners_on, 3)\n",
    "    \n",
    "    # Home run\n",
    "    if bases_to_advance == 4:\n",
    "        runs += 1\n",
    "        runners_on = 0\n",
    "        \n",
    "    # Double\n",
    "    elif bases_to_advance == 2:\n",
    "        if runners_on:\n",
    "            runs += 1\n",
    "        runners_on = 1\n",
    "        \n",
    "    # Single\n",
    "    elif bases_to_advance == 1:\n",
    "        runners_on += 1\n",
    "        if runners_on > 3:\n",
    "            runs += 1\n",
    "            runners_on = 3\n",
    "            \n",
    "    # Strikeout\n",
    "    elif bases_to_advance == 0:\n",
    "        outs += 1\n",
    "\n",
    "    return outs, runs, runners_on"
   ]
  },
  {
   "cell_type": "code",
   "execution_count": 166,
   "metadata": {
    "scrolled": false
   },
   "outputs": [
    {
     "name": "stdout",
     "output_type": "stream",
     "text": [
      "{0: 13054, 1: 16946, 2: 0}\n",
      "Moonwalkers win %: 0.6527\n",
      "Doubloons win %: 0.8473\n",
      "Taters win %: 0.0\n",
      "91.22860598564148\n"
     ]
    }
   ],
   "source": [
    "import time\n",
    "start = time.time()\n",
    "\n",
    "matchups = [[moonwalkers, doubloons], [moonwalkers, taters], [doubloons, taters]]\n",
    "matchups_to_simulate = 10_000\n",
    "game_results = []\n",
    "wins = {0: 0, 1: 0, 2: 0}\n",
    "pair_counter = 0\n",
    "\n",
    "for team_1, team_2 in matchups:\n",
    "    pair_counter += 1\n",
    "    game_counter = 0\n",
    "#     print(f'Team pairing {pair_counter} of {len(matchups)}...')\n",
    "    \n",
    "    for game in range(matchups_to_simulate):\n",
    "        game_counter += 1\n",
    "#         if game_counter % 100 == 0: print(f'Playing game {game_counter} of {matchups_to_simulate}', end='\\r')\n",
    "        game_result = play_a_game(team_1, team_2)\n",
    "        winner = game_result[0]\n",
    "        wins[winner] += 1\n",
    "        \n",
    "print(wins)\n",
    "print(f'Moonwalkers win %: {wins[0]/(2*matchups_to_simulate)}')\n",
    "print(f'Doubloons win %: {wins[1]/(2*matchups_to_simulate)}')\n",
    "print(f'Taters win %: {wins[2]/(2*matchups_to_simulate)}')\n",
    "\n",
    "print(time.time() - start)"
   ]
  },
  {
   "cell_type": "code",
   "execution_count": 167,
   "metadata": {},
   "outputs": [],
   "source": [
    "from collections import deque"
   ]
  },
  {
   "cell_type": "code",
   "execution_count": 173,
   "metadata": {},
   "outputs": [],
   "source": [
    "bases = deque([1, 2, 3, 4])"
   ]
  },
  {
   "cell_type": "code",
   "execution_count": 174,
   "metadata": {},
   "outputs": [
    {
     "data": {
      "text/plain": [
       "4"
      ]
     },
     "execution_count": 174,
     "metadata": {},
     "output_type": "execute_result"
    }
   ],
   "source": [
    "bases.pop()"
   ]
  },
  {
   "cell_type": "code",
   "execution_count": 175,
   "metadata": {},
   "outputs": [
    {
     "data": {
      "text/plain": [
       "deque([1, 2, 3])"
      ]
     },
     "execution_count": 175,
     "metadata": {},
     "output_type": "execute_result"
    }
   ],
   "source": [
    "bases"
   ]
  },
  {
   "cell_type": "code",
   "execution_count": 176,
   "metadata": {},
   "outputs": [
    {
     "data": {
      "text/plain": [
       "deque([0, 1, 2, 3])"
      ]
     },
     "execution_count": 176,
     "metadata": {},
     "output_type": "execute_result"
    }
   ],
   "source": [
    "bases.appendleft(0)\n",
    "bases"
   ]
  },
  {
   "cell_type": "code",
   "execution_count": 177,
   "metadata": {},
   "outputs": [
    {
     "data": {
      "text/plain": [
       "0"
      ]
     },
     "execution_count": 177,
     "metadata": {},
     "output_type": "execute_result"
    }
   ],
   "source": [
    "bases.popleft()"
   ]
  },
  {
   "cell_type": "code",
   "execution_count": 178,
   "metadata": {},
   "outputs": [
    {
     "data": {
      "text/plain": [
       "deque([1, 2, 3])"
      ]
     },
     "execution_count": 178,
     "metadata": {},
     "output_type": "execute_result"
    }
   ],
   "source": [
    "bases"
   ]
  },
  {
   "cell_type": "code",
   "execution_count": null,
   "metadata": {},
   "outputs": [],
   "source": []
  },
  {
   "cell_type": "code",
   "execution_count": null,
   "metadata": {},
   "outputs": [],
   "source": []
  },
  {
   "cell_type": "code",
   "execution_count": 44,
   "metadata": {},
   "outputs": [],
   "source": [
    "class Inning():    \n",
    "    def __init__(self, visitor_stats, home_team_stats):\n",
    "        import numpy as np\n",
    "        \n",
    "        self.team_stats = {0: visitor_stats, 1: home_team_stats}\n",
    "        self.runs_scored = [0, 0]\n",
    "        self.runners_on_base = [False, False, False]\n",
    "        self.outs = 0\n",
    "        self.team_up_to_bat = None\n",
    " \n",
    "        \n",
    "    def _batter_up(self, team):\n",
    "        at_bat_result = int(np.random.choice(list(team.keys()),\n",
    "                                             size=1,\n",
    "                                             p=list(team.values())))\n",
    "        print(f'Batter up! Advances {at_bat_result} base(s)')\n",
    "\n",
    "        if at_bat_result > 0:\n",
    "            self._run_bases(at_bat_result)\n",
    "        else:\n",
    "            self.outs += 1\n",
    "    \n",
    "    def _run_bases(self, hit_value):\n",
    "        # First, handle runners on base\n",
    "        # A double, triple, or home run scores all runners\n",
    "        if hit_value >= 2:\n",
    "            self.runs[self.team_up_to_bat] += sum(self.runners_on_base)\n",
    "            self.runners_on_base = [False, False, False]\n",
    "        elif hit_value == 1:\n",
    "            pass\n",
    "        else:\n",
    "            pass\n",
    "    \n",
    "    def play(self):\n",
    "        for batting_team in [0, 1]:\n",
    "            self.team_up_to_bat = batting_team\n",
    "            while self.outs < 3:\n",
    "                self._batter_up(self.team_stats[batting_team])\n",
    "    \n",
    "class RLBGame():\n",
    "    def __init__(self):\n",
    "        self._std_innings = 9\n"
   ]
  },
  {
   "cell_type": "code",
   "execution_count": 45,
   "metadata": {},
   "outputs": [],
   "source": [
    "my_inning = Inning(moonwalkers, doubloons)"
   ]
  },
  {
   "cell_type": "code",
   "execution_count": 46,
   "metadata": {},
   "outputs": [
    {
     "name": "stdout",
     "output_type": "stream",
     "text": [
      "Batter up! Advances 1 base(s)\n",
      "Batter up! Advances 0 base(s)\n",
      "Batter up! Advances 0 base(s)\n",
      "Batter up! Advances 1 base(s)\n",
      "Batter up! Advances 0 base(s)\n"
     ]
    }
   ],
   "source": [
    "my_inning.play()"
   ]
  },
  {
   "cell_type": "code",
   "execution_count": null,
   "metadata": {},
   "outputs": [],
   "source": []
  }
 ],
 "metadata": {
  "kernelspec": {
   "display_name": "Python 3",
   "language": "python",
   "name": "python3"
  },
  "language_info": {
   "codemirror_mode": {
    "name": "ipython",
    "version": 3
   },
   "file_extension": ".py",
   "mimetype": "text/x-python",
   "name": "python",
   "nbconvert_exporter": "python",
   "pygments_lexer": "ipython3",
   "version": "3.7.3"
  },
  "toc": {
   "base_numbering": 1,
   "nav_menu": {},
   "number_sections": false,
   "sideBar": true,
   "skip_h1_title": true,
   "title_cell": "Table of Contents",
   "title_sidebar": "Contents",
   "toc_cell": false,
   "toc_position": {},
   "toc_section_display": true,
   "toc_window_display": false
  },
  "varInspector": {
   "cols": {
    "lenName": 16,
    "lenType": 16,
    "lenVar": 40
   },
   "kernels_config": {
    "python": {
     "delete_cmd_postfix": "",
     "delete_cmd_prefix": "del ",
     "library": "var_list.py",
     "varRefreshCmd": "print(var_dic_list())"
    },
    "r": {
     "delete_cmd_postfix": ") ",
     "delete_cmd_prefix": "rm(",
     "library": "var_list.r",
     "varRefreshCmd": "cat(var_dic_list()) "
    }
   },
   "types_to_exclude": [
    "module",
    "function",
    "builtin_function_or_method",
    "instance",
    "_Feature"
   ],
   "window_display": false
  }
 },
 "nbformat": 4,
 "nbformat_minor": 2
}
